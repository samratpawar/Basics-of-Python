{
 "cells": [
  {
   "cell_type": "code",
   "execution_count": null,
   "id": "1f2726d8",
   "metadata": {},
   "outputs": [],
   "source": [
    "# basic syntax"
   ]
  },
  {
   "cell_type": "code",
   "execution_count": 2,
   "id": "219dcffa",
   "metadata": {},
   "outputs": [],
   "source": [
    "#there are two main modes in programming for executing programs in python"
   ]
  },
  {
   "cell_type": "code",
   "execution_count": 3,
   "id": "44caadec",
   "metadata": {},
   "outputs": [
    {
     "name": "stdout",
     "output_type": "stream",
     "text": [
      "hello world\n"
     ]
    }
   ],
   "source": [
    "#Interactive mode Programming : without passing the script file in the jupyter notebook.\n",
    "\n",
    "print(\"hello world\")"
   ]
  },
  {
   "cell_type": "code",
   "execution_count": 4,
   "id": "28975866",
   "metadata": {},
   "outputs": [],
   "source": [
    "#Script mode Programming : file is stored separately with a .py extension. Interpreter writes the name of file. The path also has to be correctly mentioned"
   ]
  },
  {
   "cell_type": "markdown",
   "id": "93f6be8c",
   "metadata": {},
   "source": [
    "# Python Identifiers"
   ]
  },
  {
   "cell_type": "code",
   "execution_count": 6,
   "id": "b3a0a429",
   "metadata": {},
   "outputs": [],
   "source": [
    "#Identifiers start with A to Z , a to z , (_) underscore or foolowed by zeros or more letters underscore , digits (0 to 9)\n",
    "#Punctuation Characters such as @ , $ and % are not allowed \n",
    "#Identifiers are Case sensitive : \"_FirstProgram_\" and \"_firstProgram_\" are different identifiers in python 3.\n",
    "#Class name should always start with an uppercase letter.\n",
    "#Identifier starts with underscore indicates that it is private\n",
    "#Identifiers starting with two leading underscores that is strong private identifier.\n",
    "#If Identifiers start and ends with two trailing underscores , then it is language defined special name."
   ]
  },
  {
   "cell_type": "code",
   "execution_count": 7,
   "id": "d0516732",
   "metadata": {},
   "outputs": [],
   "source": [
    "#Reserved Words"
   ]
  },
  {
   "cell_type": "code",
   "execution_count": null,
   "id": "e5c99b47",
   "metadata": {},
   "outputs": [],
   "source": [
    "#Lines and Identations "
   ]
  },
  {
   "cell_type": "code",
   "execution_count": 9,
   "id": "5c424b53",
   "metadata": {},
   "outputs": [],
   "source": [
    "#Block of code in python are denoted by line indentation \n",
    "#The number of spaces in the indentation is variable , but all statements within block must be indented in same amount \n",
    "#Example of Code Indentation is : Output :Yes"
   ]
  },
  {
   "cell_type": "code",
   "execution_count": 1,
   "id": "e06b7c26",
   "metadata": {},
   "outputs": [
    {
     "name": "stdout",
     "output_type": "stream",
     "text": [
      "8\n"
     ]
    }
   ],
   "source": [
    "#Python Allows the use of line Continuation character (\\) : denote that line should continue.\n",
    "#Example of Code for Line Continuation :\n",
    "#item1 and item2 are declared : \n",
    "    #item is the sum of item1 and item2 :\n",
    "        #In line 3 ,  item 2 is continued in the next line and the sum of item 1 and item 2 is computed and printed\n",
    "  \n",
    "item1 = 3\n",
    "item2 = 5\n",
    "item = item1+\\\n",
    "item2\n",
    "print (item)        "
   ]
  },
  {
   "cell_type": "code",
   "execution_count": 2,
   "id": "8da3fb98",
   "metadata": {},
   "outputs": [
    {
     "name": "stdout",
     "output_type": "stream",
     "text": [
      "wording\n",
      "This is an example of Quotes in Python\n",
      "This is another\n",
      "            example of sentence in python\n"
     ]
    }
   ],
   "source": [
    "#Different Quotes used in Python:\n",
    "\n",
    "#Python Accepts single('),(\") and triple (\"\" or \"\"\"\") quotes to denote string literals , as long as the same type of quote starts and ends the string.\n",
    "#Triple Quotes are used to span the string across multiple lines.\n",
    "\n",
    "word = 'wording'\n",
    "sentence = \"This is an example of Quotes in Python\"\n",
    "sent = \"\"\"This is another\n",
    "            example of sentence in python\"\"\"\n",
    "print(word)\n",
    "print(sentence)\n",
    "print(sent)"
   ]
  },
  {
   "cell_type": "markdown",
   "id": "071323ab",
   "metadata": {},
   "source": [
    "# Variables in Python 3"
   ]
  },
  {
   "cell_type": "code",
   "execution_count": 4,
   "id": "28d998d4",
   "metadata": {},
   "outputs": [
    {
     "name": "stdout",
     "output_type": "stream",
     "text": [
      "6\n"
     ]
    }
   ],
   "source": [
    "#Assigning values to variables :\n",
    "\n",
    "#the equal sign(=) is used to assign values to variables.\n",
    "\n",
    "a = 1 ; b = 2 ; c = 3\n",
    "tot = a+b+c\n",
    "print (tot)\n"
   ]
  },
  {
   "cell_type": "code",
   "execution_count": 5,
   "id": "39c58b19",
   "metadata": {},
   "outputs": [
    {
     "name": "stdout",
     "output_type": "stream",
     "text": [
      "1\n",
      "1\n",
      "1\n",
      "1\n",
      "2\n",
      "jack\n"
     ]
    }
   ],
   "source": [
    "#Multiple Assignment : \n",
    "\n",
    "#Variables a,b and c are all assigned a value 1.\n",
    "#Similarly, variables x,y and z are assigned a values 1,2 and jack , respectively.\n",
    "\n",
    "\n",
    "#single assignment \n",
    "a=b=c=1\n",
    "print(a)\n",
    "print(b)\n",
    "print(c)\n",
    "\n",
    "#Multiple assignment \n",
    "x,y,z = 1,2,\"jack\"\n",
    "print(x)\n",
    "print(y)\n",
    "print(z)"
   ]
  },
  {
   "cell_type": "code",
   "execution_count": null,
   "id": "fb4e9d21",
   "metadata": {},
   "outputs": [],
   "source": []
  },
  {
   "cell_type": "markdown",
   "id": "0a760463",
   "metadata": {},
   "source": [
    "# Standard Data Types"
   ]
  },
  {
   "cell_type": "code",
   "execution_count": 7,
   "id": "9edd7eb7",
   "metadata": {},
   "outputs": [],
   "source": [
    "#Python supports five basic datatypes.\n",
    "#They are numbers,strings,lists,tuples, and dictionary."
   ]
  },
  {
   "cell_type": "code",
   "execution_count": 8,
   "id": "3b45bf48",
   "metadata": {},
   "outputs": [],
   "source": [
    "#Python Numbers : "
   ]
  },
  {
   "cell_type": "code",
   "execution_count": 9,
   "id": "3ef5a6b6",
   "metadata": {},
   "outputs": [
    {
     "name": "stdout",
     "output_type": "stream",
     "text": [
      "10\n",
      "20\n",
      "10.567\n",
      "(56+7j)\n"
     ]
    }
   ],
   "source": [
    "#python supports three kind of numeric datatypes : \n",
    "#a.(int) which are signed integers   b.(float) which are floating point real values  c.(complex) which are complex numbers.\n",
    "\n",
    "m = 10 #integer \n",
    "n = 20 #integer\n",
    "o = 10.567 #float number\n",
    "p = 56 + 7j #complex number \n",
    "print (m)\n",
    "print (n)\n",
    "print (o)\n",
    "print (p)"
   ]
  },
  {
   "cell_type": "code",
   "execution_count": 10,
   "id": "fcc75a7f",
   "metadata": {},
   "outputs": [],
   "source": [
    "#Python Strings :"
   ]
  },
  {
   "cell_type": "code",
   "execution_count": 11,
   "id": "05f43d78",
   "metadata": {},
   "outputs": [
    {
     "name": "stdout",
     "output_type": "stream",
     "text": [
      "Hello World !\n",
      "l\n",
      "ello\n",
      "o World !\n",
      "Hello World !Hello World !Hello World !\n"
     ]
    }
   ],
   "source": [
    "#Strings in python are identified as a contiguos set of characters represented in quotation marks.\n",
    "#Subsets of strings can be taken using Slice Operators ([] and [:])\n",
    "#plus sign (+) = string concatenation operator\n",
    "#asterisk (*) = Repetition Operator\n",
    "\n",
    "\n",
    "str = \"Hello World !\"\n",
    "\n",
    "print (str) #Complete string is printed\n",
    "print (str[3]) #The third Character is Printed\n",
    "print (str[1:5]) #The characters in between 1 and 5 are printed. \n",
    "print (str[4: ]) #from 4th character the string is printed.\n",
    "print (str * 3) #Print the character 3 times."
   ]
  },
  {
   "cell_type": "code",
   "execution_count": 12,
   "id": "3751c671",
   "metadata": {},
   "outputs": [],
   "source": [
    "#Python Lists :"
   ]
  },
  {
   "cell_type": "code",
   "execution_count": 13,
   "id": "977c3247",
   "metadata": {},
   "outputs": [
    {
     "name": "stdout",
     "output_type": "stream",
     "text": [
      "['abcd', 123, 2.23, 'ramesh', 70.2]\n",
      "ramesh\n",
      "70.2\n",
      "[123, 'john', 123, 'john']\n"
     ]
    }
   ],
   "source": [
    "#A python list contains items separated by commas and enclosed within square brackets ([]).\n",
    "#Just as Strings , lists can also be taken using Slice Operators ([] and [:]).\n",
    "\n",
    "mylist = [ 'abcd' , 123 , 2.23 , 'ramesh' , 70.2]\n",
    "mysmalllist = [ 123 , 'john']\n",
    "\n",
    "print (mylist)  #print the entire lists.\n",
    "print (mylist [3]) #print the 4th element in the list.\n",
    "print (mylist [-1])  #print the last element in the list.\n",
    "print (mysmalllist*2)  #repeats the elements of mysmalllist twice."
   ]
  },
  {
   "cell_type": "code",
   "execution_count": 14,
   "id": "292b0a0d",
   "metadata": {},
   "outputs": [],
   "source": [
    "#Python Tuples : "
   ]
  },
  {
   "cell_type": "code",
   "execution_count": 15,
   "id": "31173315",
   "metadata": {},
   "outputs": [
    {
     "name": "stdout",
     "output_type": "stream",
     "text": [
      "('abcd', 123, 2.23, 'ramesh', 70.2)\n",
      "123\n",
      "(2.23, 'ramesh', 70.2)\n",
      "('abcd', 123, 2.23, 'ramesh', 70.2, 12345, 67890)\n"
     ]
    }
   ],
   "source": [
    "#A tuple consists of a number of values separated by commas.\n",
    "#Unlike lists , however , tuples are enclosed within paranthesis(()).\n",
    "\n",
    "tuple = ('abcd' , 123 , 2.23 , \"ramesh\" , 70.2)\n",
    "tinytuple = (12345 , 67890)\n",
    "\n",
    "print (tuple)\n",
    "print (tuple[1])\n",
    "print (tuple[2 : ])\n",
    "print (tuple + tinytuple)"
   ]
  },
  {
   "cell_type": "code",
   "execution_count": 16,
   "id": "eea2af24",
   "metadata": {},
   "outputs": [],
   "source": [
    "#Python Dictionary"
   ]
  },
  {
   "cell_type": "code",
   "execution_count": 17,
   "id": "0578fbf3",
   "metadata": {},
   "outputs": [
    {
     "name": "stdout",
     "output_type": "stream",
     "text": [
      "{1: 'This is an example of Dictionary', 2: 'This is an example of key-value pair'}\n",
      "This is an example of key-value pair\n",
      "{'name': 'james', 'age': 25, 'department': 'account'}\n",
      "dict_keys(['name', 'age', 'department'])\n",
      "dict_values(['james', 25, 'account'])\n"
     ]
    }
   ],
   "source": [
    "#Python Dictionaries are of Hash-table and consist of key-value pairs and there are almost any python type but are usually numbers and strings.\n",
    "#Dictionaries are enclosed by curley braces {} and values are assigned and accesed using square braces [].\n",
    "#If the key have to be displayed then variablename.keys() is used  and  if values have to be displayed variablename.values() is used.\n",
    "\n",
    "\n",
    "dict = {} #iniating an empty dictionary\n",
    "dict[1] = \"This is an example of Dictionary\"\n",
    "#The first key 1 has a value given in Right Hand Side.\n",
    "dict[2] = \"This is an example of key-value pair\"\n",
    "#The second key 2 has a value given in Right Hand Side.\n",
    "diction = {\"name\":\"james\",\"age\":25,\"department\":\"account\"}\n",
    "\n",
    "print (dict) #print the value of the key\n",
    "print (dict[2]) #prints the value of key\n",
    "print (diction) #prints the entire Dictionary\n",
    "print (diction.keys()) #prints the entire sets of keys of Diction \n",
    "print (diction.values()) #prints the values of the keys\n"
   ]
  },
  {
   "cell_type": "code",
   "execution_count": null,
   "id": "7946b9bd",
   "metadata": {},
   "outputs": [],
   "source": []
  },
  {
   "cell_type": "markdown",
   "id": "3d66c1bd",
   "metadata": {},
   "source": [
    "# Basic Operators in Python :"
   ]
  },
  {
   "cell_type": "code",
   "execution_count": 19,
   "id": "8a08d5b5",
   "metadata": {},
   "outputs": [],
   "source": [
    "#Arithmetic Operators :\n",
    "#The basic Arithmetic operators are addition , subraction , division , multiplication , modulus , exponent and floor division ."
   ]
  },
  {
   "cell_type": "code",
   "execution_count": 20,
   "id": "6ca10e78",
   "metadata": {},
   "outputs": [
    {
     "name": "stdout",
     "output_type": "stream",
     "text": [
      "Addition is  30\n",
      "Difference is -10\n",
      "Product is 200\n",
      "Quotient is 0.5\n",
      "Modulus is 10\n",
      "A raise to the power of b is  100000000000000000000\n",
      "b floor divided by a is given by  2\n"
     ]
    }
   ],
   "source": [
    "#Various Arithmetic Operators :\n",
    "\n",
    "a = 10 ;  b = 20 ;  c= 0  #variables are initialized\n",
    "c = a+b ; print(\"Addition is \",c)  #Addition Operation \n",
    "c = a-b ; print(\"Difference is\",c)  #Subraction Operation\n",
    "c = a*b ; print(\"Product is\",c)    #Multiplication Operation\n",
    "c = a/b ; print(\"Quotient is\",c)   #Division Operation\n",
    "c = a%b ; print(\"Modulus is\",c)    #Modulus Operation\n",
    "c = a**b ; print(\"A raise to the power of b is \",c)\n",
    "c = b//a ; print(\"b floor divided by a is given by \",c)\n"
   ]
  },
  {
   "cell_type": "code",
   "execution_count": 21,
   "id": "4e27c6a1",
   "metadata": {},
   "outputs": [],
   "source": [
    "#Comparison (Relational) Operators :"
   ]
  },
  {
   "cell_type": "code",
   "execution_count": 22,
   "id": "68f7ea65",
   "metadata": {},
   "outputs": [],
   "source": [
    "#Those operators compare the values on either side and decide the relation between them."
   ]
  },
  {
   "cell_type": "code",
   "execution_count": 23,
   "id": "7a98c106",
   "metadata": {},
   "outputs": [
    {
     "name": "stdout",
     "output_type": "stream",
     "text": [
      "a is not equal to b\n",
      "a is lesser than b\n",
      "a is not greater than b\n",
      "a is lesser than or equal to b\n",
      "a is not equal to b\n"
     ]
    }
   ],
   "source": [
    "#Various Comparison or relational Operators\n",
    "\n",
    "a=10 ; b=20 ; c=0  #variables are initialized\n",
    "if (a==b) : \n",
    "    print(\"a is equal to b\")\n",
    "else : \n",
    "    print(\"a is not equal to b\")\n",
    "    \n",
    "if (a<b) : \n",
    "    print(\"a is lesser than b\")\n",
    "else : \n",
    "    print(\"a is not lesser than b\")\n",
    "    \n",
    "if (a>b) : \n",
    "    print(\"a is greater than b\")\n",
    "else : \n",
    "    print(\"a is not greater than b\")\n",
    "    \n",
    "if (a<=b) : \n",
    "    print(\"a is lesser than or equal to b\")\n",
    "else :\n",
    "    print(\"a is not lesser than or equal to b\")\n",
    "    \n",
    "if (a!=b) : \n",
    "    print(\"a is not equal to b\")\n",
    "else :\n",
    "    print(\"a is equal to b\")\n",
    "    \n",
    "    \n"
   ]
  },
  {
   "cell_type": "code",
   "execution_count": 24,
   "id": "d34054ce",
   "metadata": {},
   "outputs": [],
   "source": [
    "#Assignment Operators : "
   ]
  },
  {
   "cell_type": "code",
   "execution_count": 25,
   "id": "6b987200",
   "metadata": {},
   "outputs": [],
   "source": [
    "#The assignment operator assigns the value of the right-hand side to the left-hand side."
   ]
  },
  {
   "cell_type": "code",
   "execution_count": 26,
   "id": "62bbed53",
   "metadata": {},
   "outputs": [
    {
     "name": "stdout",
     "output_type": "stream",
     "text": [
      "example of add and is  110\n",
      "example of subtract and is 10\n",
      "example of multiple and is 1000\n",
      "example of divide and is  10.0\n",
      "The example of Modulus and is 10.0\n",
      "The example of exponential and is 1e+100\n"
     ]
    }
   ],
   "source": [
    "#Examples of Assignment Operators\n",
    "\n",
    "a=100\n",
    "b=10\n",
    "b+=a ; print(\"example of add and is \",b)\n",
    "b-=a ; print(\"example of subtract and is\",b)\n",
    "b*=a ; print(\"example of multiple and is\",b)\n",
    "b/=a ; print(\"example of divide and is \",b)\n",
    "b%=a ; print(\"The example of Modulus and is\",b)\n",
    "b**=a ; print(\"The example of exponential and is\",b)\n",
    "    "
   ]
  },
  {
   "cell_type": "code",
   "execution_count": 27,
   "id": "088ba72f",
   "metadata": {},
   "outputs": [],
   "source": [
    "#Logical and Membership Operators :"
   ]
  },
  {
   "cell_type": "code",
   "execution_count": 28,
   "id": "0fd26205",
   "metadata": {},
   "outputs": [
    {
     "name": "stdout",
     "output_type": "stream",
     "text": [
      "a is not present in the list\n",
      "b is present in list\n"
     ]
    }
   ],
   "source": [
    "#The logical operators supported by Python language are logical AND ,Logical OR, and Logical NOT.\n",
    "#The membership operators are \"in\" and \"not in\" operators.\n",
    "#In list , the presence or absence of specific elements is tested using conditional statements \"if(a in list)\": or \"if(b not in list)\".\n",
    "\n",
    "\n",
    "#Examples of Logical Operators.\n",
    "\n",
    "a=100\n",
    "b=10\n",
    "list = [2,4,6,8,10]\n",
    "#Example of in Operators\n",
    "if(a in list) : \n",
    "    print(\"a is present in the list\")\n",
    "else :\n",
    "    print(\"a is not present in the list\")\n",
    "    \n",
    "#Example of not in operators\n",
    "if(b not in list) : \n",
    "    print(\"b is not in list\")\n",
    "else :\n",
    "    print(\"b is present in list\")\n",
    "    \n",
    "    "
   ]
  },
  {
   "cell_type": "code",
   "execution_count": null,
   "id": "86b2248b",
   "metadata": {},
   "outputs": [],
   "source": []
  },
  {
   "cell_type": "markdown",
   "id": "a422436f",
   "metadata": {},
   "source": [
    "# Python Decision Making"
   ]
  },
  {
   "cell_type": "code",
   "execution_count": 30,
   "id": "897dfd38",
   "metadata": {},
   "outputs": [],
   "source": [
    "#In any programming language , the execution of commands is mainly controlled by decision making structs.\n",
    "#Decision Structures evaluate multiple expressions, which produce TRUE or FALSE as an outcome."
   ]
  },
  {
   "cell_type": "code",
   "execution_count": 31,
   "id": "a0e3f16d",
   "metadata": {},
   "outputs": [
    {
     "name": "stdout",
     "output_type": "stream",
     "text": [
      "Even number\n"
     ]
    }
   ],
   "source": [
    "#If statement : \n",
    "#Syntax : if expression: / statements(s)\n",
    "\n",
    "a =1000\n",
    "if (a%2==0):\n",
    "    print(\"Even number\")\n",
    "\n",
    "#it should be noted that in case the if statement evaluate to be TRUE, then the Statements after that should follow an identation.\n",
    "\n",
    "              "
   ]
  },
  {
   "cell_type": "code",
   "execution_count": null,
   "id": "7e7b6282",
   "metadata": {},
   "outputs": [],
   "source": []
  },
  {
   "cell_type": "code",
   "execution_count": 32,
   "id": "2343cdf6",
   "metadata": {},
   "outputs": [
    {
     "name": "stdout",
     "output_type": "stream",
     "text": [
      "Even number\n"
     ]
    }
   ],
   "source": [
    "#If...else statement :\n",
    "#An else statement can be added to the if statement when required.\n",
    "#Syntax : if expression: / statement(s) / else: / statement(s)\n",
    "\n",
    "\n",
    "a=1000\n",
    "if(a%2==0):\n",
    "    print(\"Even number\")\n",
    "else:\n",
    "    (\"odd number\")"
   ]
  },
  {
   "cell_type": "code",
   "execution_count": null,
   "id": "3ee5f612",
   "metadata": {},
   "outputs": [],
   "source": []
  },
  {
   "cell_type": "code",
   "execution_count": 33,
   "id": "5e6a217e",
   "metadata": {},
   "outputs": [
    {
     "name": "stdout",
     "output_type": "stream",
     "text": [
      "Enter the principle amount12\n",
      "The amount after one year is 13.2\n"
     ]
    }
   ],
   "source": [
    "#If...elif...else statement :\n",
    "#The elif statement allows the user to check multiple expressions for TRUE and execute a block of code as soon as one of the conditions evaluates to TRUE.\n",
    "#Syntax : if expression1: / statement(s) / elif expression2: / statement(s) / elif expression3: / statement(s) / else: / statement(s)\n",
    "\n",
    "\n",
    "#example to compute simple interest using if..elif..else statements\n",
    "principle = int(input(\"Enter the principle amount\"))\n",
    "if (principle<1000) : \n",
    "    interest = 10\n",
    "elif (principle>1000 and principle<2500):\n",
    "    interest = 12\n",
    "elif (principle>=2500 and principle<5000):\n",
    "    interest = 15\n",
    "else:\n",
    "    interest = 20\n",
    "amount = principle + principle*interest/100\n",
    "print(\"The amount after one year is\",amount)\n",
    "    \n"
   ]
  },
  {
   "cell_type": "code",
   "execution_count": null,
   "id": "46a10053",
   "metadata": {},
   "outputs": [],
   "source": []
  },
  {
   "cell_type": "code",
   "execution_count": 34,
   "id": "1d9183c4",
   "metadata": {},
   "outputs": [
    {
     "name": "stdout",
     "output_type": "stream",
     "text": [
      "Enter any number10\n",
      "Divisible by 2 not divisible by 3\n"
     ]
    }
   ],
   "source": [
    "#Nested if Statements : \n",
    "#There may be a situation where user wants to check for another condition after it resolves to TRUE.\n",
    "#Syntax : if expression1: / statement(s) / if expression2: / statement(s) / elif expression3: / else / statement(s) / elif expression4: / statement(s) / else: / statement(s)\n",
    "\n",
    "\n",
    "\n",
    "\n",
    "\n",
    "\n",
    "\n",
    "#Example of Nested if Statements\n",
    "#Program to find test of divisibility of 2 and 3\n",
    "num = int(input(\"Enter any number\"))\n",
    "if num%2==0 :\n",
    "    if num%3==0 :\n",
    "        print(\"Divisible by 3 and 2\")\n",
    "    else:\n",
    "        print(\"Divisible by 2 not divisible by 3\")\n",
    "else:\n",
    "    if num%3==0:\n",
    "        print(\"divisible by 3 not divisible by 2\")\n",
    "    else:\n",
    "        print(\"not Divisible by 2 not Divisible by 3\")"
   ]
  },
  {
   "cell_type": "code",
   "execution_count": null,
   "id": "b34356be",
   "metadata": {},
   "outputs": [],
   "source": []
  },
  {
   "cell_type": "markdown",
   "id": "ba3f1ae0",
   "metadata": {},
   "source": [
    "# Python Loops :"
   ]
  },
  {
   "cell_type": "code",
   "execution_count": 36,
   "id": "e7fa0766",
   "metadata": {},
   "outputs": [],
   "source": [
    "#A loop Statement allows the user to execute a statement or group of statements multiple times.\n",
    "#loops : While , For , Nested"
   ]
  },
  {
   "cell_type": "code",
   "execution_count": 1,
   "id": "a1fafe90",
   "metadata": {},
   "outputs": [
    {
     "name": "stdout",
     "output_type": "stream",
     "text": [
      "11\n",
      "12\n",
      "13\n",
      "14\n",
      "15\n"
     ]
    }
   ],
   "source": [
    "#While loop :\n",
    "#This loop Staement in python programming repeatedly executes a target statement as long as the given condition is True.\n",
    "\n",
    "#numbers 11 to 15 are printed by using this statement:\n",
    "count=10\n",
    "while(count<15):\n",
    "    count=count+1\n",
    "    print(count)"
   ]
  },
  {
   "cell_type": "code",
   "execution_count": 7,
   "id": "c6b440a5",
   "metadata": {},
   "outputs": [
    {
     "name": "stdout",
     "output_type": "stream",
     "text": [
      "5 is less than 10\n",
      "6 is less than 10\n",
      "7 is less than 10\n",
      "8 is less than 10\n",
      "9 is less than 10\n",
      "10 is less than 10\n",
      "11 is greater than 10\n"
     ]
    }
   ],
   "source": [
    "#while loop with an else Block : \n",
    "#An else statement can be used wuth the while loop and gets executed when the condition becomes FALSE.\n",
    "\n",
    "\n",
    "#Example of while loop with else construct\n",
    "count=5\n",
    "while(count<=10):\n",
    "    print(count,\"is less than 10\")\n",
    "    count=count+1\n",
    "else:\n",
    "    print(count,\"is greater than 10\")"
   ]
  },
  {
   "cell_type": "code",
   "execution_count": null,
   "id": "8d12a132",
   "metadata": {},
   "outputs": [],
   "source": []
  },
  {
   "cell_type": "code",
   "execution_count": 24,
   "id": "79c62b42",
   "metadata": {},
   "outputs": [
    {
     "name": "stdout",
     "output_type": "stream",
     "text": [
      "Current fruit :  banana\n",
      "Current fruit :  apple\n",
      "Current fruit :  mango\n",
      "Current fruit :  mango\n",
      "Current fruit :  mango\n",
      "Current fruit :  mango\n"
     ]
    }
   ],
   "source": [
    "#for loop:\n",
    "#The for Statement in python has the ability to iterate over a range of items of any sequence , such as list or string.\n",
    "#step 1 : If a sequence contains a expression list,it is evaluate first.\n",
    "#step 2 : then the first item in the sequence is assigned the iterating_var.\n",
    "#step 3 : Next the statement block is executed.\n",
    "#step 4: this is repeated for each item until the entire sequence is exhausted.\n",
    "#(for iterating over a sequence of numbers, a range function is used) :\n",
    "\n",
    "\n",
    "\n",
    "fruits = ['banana','apple','mango']\n",
    "for index in range (len(fruits)) : \n",
    "    print('Current fruit : ',fruits[index])\n",
    "    \n",
    "#alternative use of for loop\n",
    "fruits = ['banana','apple','mango']\n",
    "for fruit in fruits :  #traverse of lists sequence\n",
    "    print('Current fruit : ',fruits[index])\n",
    "    \n",
    "    \n"
   ]
  },
  {
   "cell_type": "code",
   "execution_count": 23,
   "id": "c33edf73",
   "metadata": {},
   "outputs": [],
   "source": [
    "#Else Statement with for loop :\n",
    "#Conditions Statements can be checked inside the for loop, and if the conditions are Satisfied, the loops is followed by a break statement.\n",
    "\n",
    "#Example of an else block in a for block.\n",
    "#Example of break statement.\n",
    "numbers = [11,33,55,39,55,75,37,21,23,41,13]\n",
    "for num in numbers:\n",
    "    if num%5==0:\n",
    "        print(\"the list contains a multiple of 5\")\n",
    "    break\n",
    "else:\n",
    "            print(\"the list does not contain a multiple of 5\")"
   ]
  },
  {
   "cell_type": "code",
   "execution_count": 13,
   "id": "aba26130",
   "metadata": {},
   "outputs": [
    {
     "name": "stdout",
     "output_type": "stream",
     "text": [
      "Number4\n",
      "1\n",
      "2\n",
      "6\n",
      "24\n"
     ]
    }
   ],
   "source": [
    "#factorial program through for loop :\n",
    "num = int(input(\"Number\"))\n",
    "factorial = 1\n",
    "\n",
    "if num<0 :\n",
    "    print(\"must be positive number\")\n",
    "elif num==0 :\n",
    "    print(\"Factorial = 1\")\n",
    "else:\n",
    "    for i in range(1,num + 1):\n",
    "        factorial = factorial*i\n",
    "        print(factorial)"
   ]
  },
  {
   "cell_type": "code",
   "execution_count": 4,
   "id": "f0ff48cb",
   "metadata": {},
   "outputs": [
    {
     "name": "stdout",
     "output_type": "stream",
     "text": [
      "1\n",
      "2\n",
      "2\n",
      "4\n",
      "3\n",
      "6\n",
      "4\n",
      "8\n"
     ]
    }
   ],
   "source": [
    "#Nested loops:\n",
    "#Python programming allows the use of one loop inside another.\n",
    "\n",
    "\n",
    "\n",
    "\n",
    "#a two dimensional array is printed using the concept of nested loops.\n",
    "for i in range(1,5) :\n",
    "    for j in range(1,3):\n",
    "        k=i*j\n",
    "        print(k,end='')\n",
    "        print()"
   ]
  },
  {
   "cell_type": "code",
   "execution_count": 40,
   "id": "3854c16c",
   "metadata": {},
   "outputs": [
    {
     "name": "stdout",
     "output_type": "stream",
     "text": [
      "yes or noyes\n",
      "Number of People Travelling4\n",
      "Namerohan\n",
      "Namesam\n",
      "Namekr\n",
      "Namepo\n",
      "age23\n",
      "Male or Femalemale\n",
      "po\n",
      "23\n",
      "male\n",
      "oops! you have forgot someoneno\n"
     ]
    }
   ],
   "source": [
    "travelling = input(\"yes or no\")\n",
    "\n",
    "while travelling == \"yes\":\n",
    "    num = int(input(\"Number of People Travelling\"))\n",
    "    for num in range(1,num +1):\n",
    "        name = input(\"Name\")\n",
    "    age = input(\"age\")\n",
    "    sex = input(\"Male or Female\")\n",
    "    print(name)\n",
    "    print(age)\n",
    "    print(sex)\n",
    "    travelling = input(\"oops! you have forgot someone\")\n",
    "    "
   ]
  },
  {
   "cell_type": "code",
   "execution_count": null,
   "id": "6fe4201a",
   "metadata": {},
   "outputs": [],
   "source": []
  },
  {
   "cell_type": "markdown",
   "id": "036435b3",
   "metadata": {},
   "source": [
    "# Loop Control Statements:"
   ]
  },
  {
   "cell_type": "code",
   "execution_count": null,
   "id": "b43b3cbb",
   "metadata": {},
   "outputs": [],
   "source": [
    "#loop control statements change the execution of a program from its normal sequence.\n",
    "#When the execution leaves a scope , all automatic objects that were created in that scope are destroyed.\n",
    "#break , continue , pass"
   ]
  },
  {
   "cell_type": "code",
   "execution_count": null,
   "id": "91e35f17",
   "metadata": {},
   "outputs": [],
   "source": [
    "#Break Statement:\n",
    "#the break statement is used for premature termination of loop.\n",
    "#the most common use of break is when some external condition is triggered requiring a hasty exit from a loop.\n",
    "#it can be used in both while and for loops. if it is used in nested loops , break state.. stops execution of innermost loop and starts executing the next line of code after block.\n",
    "\n",
    "for letter in 'Machine Learning':\n",
    "    if letter=='':\n",
    "        print(\"Current letter : \",letter)\n",
    "        \n",
    "\n",
    "        \n",
    "#Continue Statement:\n",
    "#The continue Statement in Python returns the control to the beginning of the current loop.\n",
    "#When encountered ,loop starts next iteration without executing the remaining staements in the currrent one.\n",
    "#The continue Statement can be used in both while and for loops.\n",
    "\n",
    "#with continue that particular variable 5 is skipped. But loop continue.\n",
    "var=10\n",
    "while var>0:\n",
    "    var=var-1\n",
    "    if var ==5:\n",
    "        continue \n",
    "        print('Current variable value:',var)\n",
    "        \n",
    "        \n",
    "        \n",
    "        \n",
    "#Pass Block:\n",
    "#The pass block is used when a statement is required syntactically but the user does not want any command or code to execute.\n",
    "#The pass statement is a null operation ; nothing happens when it is executed.\n",
    "\n",
    "\n",
    "#when letter=' ',then that particular space is passed and the sentence \"This is pass block\" is displayed.\n",
    "for letter in 'Machine Learning':\n",
    "    if letter==' '\n",
    "    pass\n",
    "print('This is Pass Block')\n",
    "print('Current Letter :',letter)\n",
    "\n",
    "        \n",
    "        "
   ]
  },
  {
   "cell_type": "code",
   "execution_count": null,
   "id": "e01a1f79",
   "metadata": {},
   "outputs": [],
   "source": []
  },
  {
   "cell_type": "markdown",
   "id": "b7174758",
   "metadata": {},
   "source": [
    "# Numerical Python (Numpy)"
   ]
  },
  {
   "cell_type": "code",
   "execution_count": 40,
   "id": "074dee5c",
   "metadata": {},
   "outputs": [],
   "source": [
    "#Numpy contains multidimensional array objects and routines for processing those arrays and routines for processing those arrays.\n",
    "#It is used for mathematical and logical operations on arrays.(Fourier transform and linear algebra)\n",
    "#Numpy is usually used with Scipy and Matlabplots for generating for generating mathematical functions and plotting."
   ]
  },
  {
   "cell_type": "code",
   "execution_count": 50,
   "id": "3d29ee8b",
   "metadata": {},
   "outputs": [
    {
     "name": "stdout",
     "output_type": "stream",
     "text": [
      "Example of 1d array [1 2 3]\n",
      "Example of 2d array [[1 2]\n",
      " [3 4]]\n",
      "Array of complex numbers [1.+0.j 2.+0.j 3.+0.j 4.+0.j 5.+0.j]\n"
     ]
    }
   ],
   "source": [
    "#The most important object defined in Numpy is an N-dimensional array type called ndarray.\n",
    "\n",
    "import numpy as np\n",
    "a = np.array([1,2,3]) #1d array\n",
    "print(\"Example of 1d array\",a)\n",
    "\n",
    "b = np.array([[1,2],[3,4]]) #2d array\n",
    "print(\"Example of 2d array\",b)\n",
    "\n",
    "c = np.array([1,2,3,4,5],dtype = \"complex\")\n",
    "print(\"Array of complex numbers\",c)\n",
    "\n",
    "\n",
    "#Numpy has an array method which is used to display any type of method.\n",
    "#Numpy is used to display one-dimensional array , two-dimensional array and complex number array\n"
   ]
  },
  {
   "cell_type": "code",
   "execution_count": null,
   "id": "0d28a6e5",
   "metadata": {},
   "outputs": [],
   "source": []
  },
  {
   "cell_type": "code",
   "execution_count": 52,
   "id": "029b5a69",
   "metadata": {},
   "outputs": [],
   "source": [
    "#Scalar datatypes are also defined in python :\n",
    "#source : TutorialsPoint https://www.tutorialspoint.com/numpy_data_types.htm"
   ]
  },
  {
   "cell_type": "code",
   "execution_count": null,
   "id": "c8b2fd39",
   "metadata": {},
   "outputs": [],
   "source": []
  },
  {
   "cell_type": "code",
   "execution_count": 53,
   "id": "6746a806",
   "metadata": {},
   "outputs": [],
   "source": [
    "#Array Attributes of Numpy : "
   ]
  },
  {
   "cell_type": "code",
   "execution_count": 57,
   "id": "6bf6c275",
   "metadata": {},
   "outputs": [
    {
     "name": "stdout",
     "output_type": "stream",
     "text": [
      "The dimensions of the array is (2, 3)\n",
      "The transposed array elements are [[1 2]\n",
      " [3 4]\n",
      " [5 6]]\n",
      "The reshaped array elements are [[1 2]\n",
      " [3 4]\n",
      " [5 6]]\n"
     ]
    }
   ],
   "source": [
    "#Ndarray has different array attributes. The most important are listed below.\n",
    "\n",
    "#ndarray.shape : Specifies the dimension of the array.\n",
    "#ndarray.reshape : Helps in changing the dimensions of the array.\n",
    "#nd.array.arange : Helps in assigning a range of integers to a variable.\n",
    "#numPy.itemsize : Returns the length of each element of array in bytes.\n",
    "#np.empty(shape,dtype = float,order = \"C\") : Creates an empty array with the specifications provided.\n",
    "#np.zeros : Returns a array of specified size, filled with zeros.\n",
    "#np.ones : Returns a new Array of specified size,filled with ones.\n",
    "#numpy.linspace : This function is similar to arange() function , but instead of step size, the number of evenly spaced value between the interval is specified.\n",
    "\n",
    "import numpy as np\n",
    "a = np.array([[1,2,3],[4,5,6]]) \n",
    "print(\"The dimensions of the array is\",a.shape)\n",
    "\n",
    "a.shape=(3,2)\n",
    "print(\"The transposed array elements are\",a)\n",
    "\n",
    "b =a.reshape(3,2)\n",
    "print(\"The reshaped array elements are\",b)"
   ]
  },
  {
   "cell_type": "code",
   "execution_count": 70,
   "id": "b2dc95f7",
   "metadata": {},
   "outputs": [
    {
     "name": "stdout",
     "output_type": "stream",
     "text": [
      "[ 0  1  2  3  4  5  6  7  8  9 10 11 12 13 14 15 16 17 18 19 20 21 22 23]\n",
      "[[[ 0  1  2]\n",
      "  [ 3  4  5]\n",
      "  [ 6  7  8]\n",
      "  [ 9 10 11]]\n",
      "\n",
      " [[12 13 14]\n",
      "  [15 16 17]\n",
      "  [18 19 20]\n",
      "  [21 22 23]]]\n"
     ]
    }
   ],
   "source": [
    "#Numpy is very Powerful matrix manipulation package . \n",
    "#Shape and Rehsape options are used in displaying the dimensions of array and reshaping the array.\n",
    "#The reshape option in numpy not only helps in determining the shape of a matrix , it is also used in converting a one-dimensional list to a multidimensional array.\n",
    "#This example shows how quikly a one-dimensional array can be converted into a three dimensional array.\n",
    "\n",
    "\n",
    "#this is one dimensional array\n",
    "import numpy as np\n",
    "a = np.arange(24)\n",
    "a.ndim\n",
    "print(a)\n",
    "\n",
    "#now reshape it \n",
    "b=a.reshape(2,4,3)\n",
    "print(b)"
   ]
  },
  {
   "cell_type": "code",
   "execution_count": 74,
   "id": "a63745bf",
   "metadata": {},
   "outputs": [
    {
     "name": "stdout",
     "output_type": "stream",
     "text": [
      "The 3D array is given by [[[ 0  1  2  3]\n",
      "  [ 4  5  6  7]]\n",
      "\n",
      " [[ 8  9 10 11]\n",
      "  [12 13 14 15]]\n",
      "\n",
      " [[16 17 18 19]\n",
      "  [20 21 22 23]]]\n"
     ]
    }
   ],
   "source": [
    "#An empty array of any dimension can be initiated and populated with random numbers.\n",
    "#If a float is mentioned , the user can initiate an empty array with random floating point integers.\n",
    "\n",
    "x=np.empty([3,2,4],dtype = int)\n",
    "print(\"The 3D array is given by\",x)"
   ]
  },
  {
   "cell_type": "code",
   "execution_count": 77,
   "id": "905ce3d5",
   "metadata": {},
   "outputs": [
    {
     "name": "stdout",
     "output_type": "stream",
     "text": [
      "The single dimensional array of ones and zeros is given by [1. 1. 1.] [0. 0. 0.]\n",
      "The multidimensional array of ones and zeros is given by [[1. 1. 1. 1.]\n",
      " [1. 1. 1. 1.]\n",
      " [1. 1. 1. 1.]\n",
      " [1. 1. 1. 1.]] [[0. 0. 0. 0.]\n",
      " [0. 0. 0. 0.]\n",
      " [0. 0. 0. 0.]\n",
      " [0. 0. 0. 0.]]\n"
     ]
    }
   ],
   "source": [
    "#Another important feature of Numpy is that it can create one-dimensional and multidimensional arrays of zeros and ones.\n",
    "#It shows how matrices can be created with values of ones or zeros.\n",
    "#This feature has been invariably used in matrix.\n",
    "\n",
    "#Examples of ones and zeroes\n",
    "c= np.ones(3)\n",
    "m = np.zeros(3)\n",
    "d= np.ones([4,4],dtype = float) \n",
    "n=np.zeros([4,4],dtype=float)\n",
    "print(\"The single dimensional array of ones and zeros is given by\",c,m)\n",
    "print(\"The multidimensional array of ones and zeros is given by\",d,n)\n",
    "\n",
    "\n",
    "\n",
    "\n"
   ]
  },
  {
   "cell_type": "code",
   "execution_count": 79,
   "id": "05efc4f6",
   "metadata": {},
   "outputs": [
    {
     "name": "stdout",
     "output_type": "stream",
     "text": [
      "The list of integers from 10 to 20 with 5 numbers inbetween then are [10.  12.5 15.  17.5 20. ]\n",
      "[10.         11.11111111 12.22222222 13.33333333 14.44444444 15.55555556\n",
      " 16.66666667 17.77777778 18.88888889 20.        ]\n"
     ]
    }
   ],
   "source": [
    "#Numpy can create a sequence with different start and stop values.\n",
    "#The numpy.linespace option gives the number of elements between start and end.\n",
    "#numpy.linspace(start,stop,num,endpoint,retstep,dtype)\n",
    "\n",
    "#In example , between start(10) and end(20) there are five elements and these are displayed by x.\n",
    "#The restep option is used to include or exclude the stop value,\n",
    "import numpy as np\n",
    "x=np.linspace(10,20,5)\n",
    "y=np.linspace (10,20,10,retstep=False)\n",
    "print(\"The list of integers from 10 to 20 with 5 numbers inbetween then are\",x)\n",
    "print(y)\n",
    "\n"
   ]
  },
  {
   "cell_type": "code",
   "execution_count": null,
   "id": "4647ad19",
   "metadata": {},
   "outputs": [],
   "source": []
  },
  {
   "cell_type": "markdown",
   "id": "f7ae98b4",
   "metadata": {},
   "source": [
    "# NumPy Matplotlib"
   ]
  },
  {
   "cell_type": "code",
   "execution_count": 87,
   "id": "793fc9ea",
   "metadata": {},
   "outputs": [
    {
     "data": {
      "image/png": "[encoded data removed]",
      "text/plain": [
       "<Figure size 432x288 with 1 Axes>"
      ]
     },
     "metadata": {
      "needs_background": "light"
     },
     "output_type": "display_data"
    }
   ],
   "source": [
    "#Matplotlib is a plotting library for Python.\n",
    "#It is used along with Numpy to provide an environment that is an effective open-source alternative for matlab.\n",
    "\n",
    "#how two dimensional plot can be easily made using NumPy and Matplotlib.\n",
    "#First an independent variable x is created using ndarray object.\n",
    "#The np.arrange() function is used for populating an array for a continued variable x.\n",
    "#The relation between the independent and dependent variable is given by the equation y = 2x^+3x+5 .\n",
    "import numpy as np\n",
    "from matplotlib import pyplot as plt\n",
    "x=np.arange(1,100)\n",
    "y=2*x^+3*x+5\n",
    "plt.title(\"Matplotlib demo\")\n",
    "plt.xlabel(\"x axis\")\n",
    "plt.ylabel(\"y axix\")\n",
    "plt.plot(x,y)\n",
    "plt.show()"
   ]
  },
  {
   "cell_type": "code",
   "execution_count": null,
   "id": "4fe22740",
   "metadata": {},
   "outputs": [],
   "source": []
  },
  {
   "cell_type": "markdown",
   "id": "d4ddb8a1",
   "metadata": {},
   "source": [
    "# Introduction to pandas : "
   ]
  },
  {
   "cell_type": "code",
   "execution_count": 2,
   "id": "492d6c4b",
   "metadata": {},
   "outputs": [],
   "source": [
    "#It offers powerfull and expressive data structures that are flexible enough to make data manipulation and analysis easy,among other things.\n",
    "#The main data structure used for this flexibility in pandas is Dataframe.\n",
    "#This is a two dimensional structure and represents data in the form of a table with rows and columns.\n",
    "#Arithmetic operations can be performed on Database. It looks like a spreadsheet or a table in Database."
   ]
  },
  {
   "cell_type": "code",
   "execution_count": 3,
   "id": "b43bdfa1",
   "metadata": {},
   "outputs": [],
   "source": [
    "#Creating Dataframe in Pandas:\n",
    "#Dataframe can be created in different ways and from various inputs like lists,dictionary , series an NumPy arrays."
   ]
  },
  {
   "cell_type": "markdown",
   "id": "74662727",
   "metadata": {},
   "source": [
    "Creating Dataframe from Scratch :"
   ]
  },
  {
   "cell_type": "code",
   "execution_count": 5,
   "id": "90b80018",
   "metadata": {},
   "outputs": [
    {
     "name": "stdout",
     "output_type": "stream",
     "text": [
      "Empty DataFrame\n",
      "Columns: []\n",
      "Index: []\n"
     ]
    }
   ],
   "source": [
    "#Dataframe are very helpful in data munging.It can be created from scratch as an Empty or Basic Dataframe.\n",
    "#Pandas uses DataFrame method to create an empty Dataframe.\n",
    "import pandas as pd\n",
    "df = pd.DataFrame()\n",
    "print (df)"
   ]
  },
  {
   "cell_type": "markdown",
   "id": "799b3142",
   "metadata": {},
   "source": [
    "Creating Dataframes from Lists "
   ]
  },
  {
   "cell_type": "code",
   "execution_count": 6,
   "id": "3c761aeb",
   "metadata": {},
   "outputs": [
    {
     "name": "stdout",
     "output_type": "stream",
     "text": [
      "   0\n",
      "0  0\n",
      "1  1\n",
      "2  2\n",
      "3  3\n",
      "4  4\n",
      "5  5\n",
      "6  6\n",
      "7  7\n"
     ]
    }
   ],
   "source": [
    "#Dataframes can be created from lists having a single value of from those having more than one value.\n",
    "#Columns should be named when more than one column is used.\n",
    "\n",
    "#Creation of empty dataframe.\n",
    "import pandas as pd\n",
    "content = [0,1,2,3,4,5,6,7]\n",
    "df = pd.DataFrame(content)\n",
    "print(df)"
   ]
  },
  {
   "cell_type": "code",
   "execution_count": 10,
   "id": "10790b5c",
   "metadata": {},
   "outputs": [
    {
     "name": "stdout",
     "output_type": "stream",
     "text": [
      "   Number DateofWeek\n",
      "0       0        Sun\n",
      "1       2       Tues\n",
      "2       3        Wed\n",
      "3       4       Thus\n",
      "4       5        Fri\n",
      "5       6        Sat\n"
     ]
    }
   ],
   "source": [
    "import pandas as pd\n",
    "content = [[0,'Sun'],[2,'Tues'],[3,'Wed'],[4,'Thus'],[5,'Fri'],[6,'Sat']]\n",
    "df = pd.DataFrame(content,columns = [\"Number\",\"DateofWeek\"])\n",
    "print(df)"
   ]
  },
  {
   "cell_type": "code",
   "execution_count": 11,
   "id": "378953f8",
   "metadata": {},
   "outputs": [],
   "source": [
    "#Creating single lists and multilists using Dataframe."
   ]
  },
  {
   "cell_type": "code",
   "execution_count": null,
   "id": "6c1bcce6",
   "metadata": {},
   "outputs": [],
   "source": []
  },
  {
   "cell_type": "markdown",
   "id": "b5bbde24",
   "metadata": {},
   "source": [
    "Creating DataFrame from Dictionary :"
   ]
  },
  {
   "cell_type": "code",
   "execution_count": 12,
   "id": "f0cbf2c6",
   "metadata": {},
   "outputs": [
    {
     "name": "stdout",
     "output_type": "stream",
     "text": [
      "    a   b     c\n",
      "0   1   2   NaN\n",
      "1   5  10  20.0\n",
      "2  10  20  30.0\n"
     ]
    }
   ],
   "source": [
    "\n",
    "#Dataframes can be created when a list of dictionaries is passed as input data.\n",
    "#By default , the keys in the dictionary are used as column headings.\n",
    "import pandas as pd\n",
    "data = [{'a':1,'b':2},{'a':5,'b':10,'c':20},{'a':10,'b':20,'c':30}]\n",
    "df = pd.DataFrame(data)\n",
    "print(df)"
   ]
  },
  {
   "cell_type": "markdown",
   "id": "10307c7d",
   "metadata": {},
   "source": [
    "Creating DataFrame from Series :"
   ]
  },
  {
   "cell_type": "code",
   "execution_count": 18,
   "id": "637dd9e2",
   "metadata": {},
   "outputs": [
    {
     "name": "stdout",
     "output_type": "stream",
     "text": [
      "                         0\n",
      "United Kingdom      London\n",
      "India            New Delhi\n",
      "United States   Washington\n",
      "Belgium           Brussels\n"
     ]
    }
   ],
   "source": [
    "#Dataframes can be created from a a series as input.\n",
    "#A series having countries and their capitals is given as input to DataFrames.\n",
    "import pandas as pd\n",
    "my_Series = pd.Series({\"United Kingdom\":\"London\" , \"India\":\"New Delhi\",\"United States\":\"Washington\",\"Belgium\":\"Brussels\"})\n",
    "print(pd.DataFrame(my_Series))"
   ]
  },
  {
   "cell_type": "code",
   "execution_count": null,
   "id": "bfbf9732",
   "metadata": {},
   "outputs": [],
   "source": []
  },
  {
   "cell_type": "code",
   "execution_count": 20,
   "id": "9c21ad28",
   "metadata": {},
   "outputs": [
    {
     "name": "stdout",
     "output_type": "stream",
     "text": [
      "(2, 3)\n"
     ]
    }
   ],
   "source": [
    "#Dimensions of the DataFrame can be found by the shape option : \n",
    "import numpy as np\n",
    "df = pd.DataFrame(np.array([[1,2,3],[4,5,6]]))\n",
    "print(df.shape)"
   ]
  },
  {
   "cell_type": "code",
   "execution_count": 22,
   "id": "b9c9c4e4",
   "metadata": {},
   "outputs": [
    {
     "name": "stdout",
     "output_type": "stream",
     "text": [
      "2\n"
     ]
    }
   ],
   "source": [
    "#On the other hand,the len() function, in combinations with index property, will only give information on the height of the Database.\n",
    "df = pd.DataFrame(np.array([[1,2,3],[4,5,6]]))\n",
    "print(len(df.index))"
   ]
  },
  {
   "cell_type": "code",
   "execution_count": null,
   "id": "b286f953",
   "metadata": {},
   "outputs": [],
   "source": []
  },
  {
   "cell_type": "markdown",
   "id": "4558eddc",
   "metadata": {},
   "source": [
    "Manipulation of the Columns:"
   ]
  },
  {
   "cell_type": "code",
   "execution_count": 6,
   "id": "dbcbced8",
   "metadata": {},
   "outputs": [
    {
     "name": "stdout",
     "output_type": "stream",
     "text": [
      "a    1\n",
      "b    2\n",
      "c    3\n",
      "d    4\n",
      "Name: two, dtype: int64\n"
     ]
    }
   ],
   "source": [
    "#In a DataFrame , specific columns or rows can be added , deleted , or selected.\n",
    "import pandas as pd\n",
    "d = {'one': pd.Series([1,2,3],index = [\"a\",\"b\",\"c\"]),'two':pd.Series([1,2,3,4],index=['a','b','c','d'])}\n",
    "df = pd.DataFrame(d)\n",
    "print (df['two'])\n"
   ]
  },
  {
   "cell_type": "code",
   "execution_count": 7,
   "id": "3e9c4b21",
   "metadata": {},
   "outputs": [
    {
     "name": "stdout",
     "output_type": "stream",
     "text": [
      "Adding a new column by passing as Series:\n",
      "   one  two  three\n",
      "a  1.0    1   10.0\n",
      "b  2.0    2   20.0\n",
      "c  3.0    3   30.0\n",
      "d  NaN    4    NaN\n"
     ]
    }
   ],
   "source": [
    "#Although there are different columns , only the first column can be displayed by mentioning its name and printing the content.\n",
    "#A new column can be added using the following syntax:\n",
    "import pandas as pd\n",
    "d = {'one': pd.Series([1,2,3],index = [\"a\",\"b\",\"c\"]),'two':pd.Series([1,2,3,4],index=['a','b','c','d'])}\n",
    "df = pd.DataFrame(d)\n",
    "print(\"Adding a new column by passing as Series:\")\n",
    "df['three']=pd.Series([10,20,30],index = ['a','b','c'])\n",
    "print (df)"
   ]
  },
  {
   "cell_type": "code",
   "execution_count": 13,
   "id": "ec8c0287",
   "metadata": {},
   "outputs": [
    {
     "name": "stdout",
     "output_type": "stream",
     "text": [
      "Adding a new column by passing as Series:\n",
      "Deleting the first column using Del Function:\n",
      "   two  three\n",
      "a    1   10.0\n",
      "b    2   20.0\n",
      "c    3   30.0\n",
      "d    4    NaN\n"
     ]
    },
    {
     "data": {
      "text/plain": [
       "a    1\n",
       "b    2\n",
       "c    3\n",
       "d    4\n",
       "Name: two, dtype: int64"
      ]
     },
     "execution_count": 13,
     "metadata": {},
     "output_type": "execute_result"
    }
   ],
   "source": [
    "#Columns can be deleted or popped . Pop and append are methods used to drop or add a column in Pandas DataFrame.\n",
    "import pandas as pd\n",
    "d = {'one': pd.Series([1,2,3],index = [\"a\",\"b\",\"c\"]),'two':pd.Series([1,2,3,4],index=['a','b','c','d'])}\n",
    "df = pd.DataFrame(d)\n",
    "print(\"Adding a new column by passing as Series:\")\n",
    "df['three']=pd.Series([10,20,30],index = ['a','b','c'])\n",
    "print (\"Deleting the first column using Del Function:\")\n",
    "del df[\"one\"]\n",
    "print (df)\n",
    "df.pop('two')"
   ]
  },
  {
   "cell_type": "code",
   "execution_count": 16,
   "id": "240f3549",
   "metadata": {},
   "outputs": [
    {
     "name": "stdout",
     "output_type": "stream",
     "text": [
      "   a  b\n",
      "0  1  2\n",
      "1  3  4\n",
      "0  5  6\n",
      "1  7  8\n"
     ]
    }
   ],
   "source": [
    "#New rows can also be added.\n",
    "#The append function is used to add rows to a DataFrame.\n",
    "import pandas as pd\n",
    "df = pd.DataFrame([[1,2],[3,4]],columns = ['a','b'])\n",
    "df2= pd.DataFrame([[5,6],[7,8]],columns = ['a','b'])\n",
    "df = df.append(df2)\n",
    "print (df)"
   ]
  },
  {
   "cell_type": "code",
   "execution_count": 2,
   "id": "01f19830",
   "metadata": {},
   "outputs": [
    {
     "name": "stdout",
     "output_type": "stream",
     "text": [
      "   a  b\n",
      "0  1  2\n",
      "1  3  4\n",
      "0  5  6\n",
      "1  7  8\n"
     ]
    }
   ],
   "source": [
    "#Rows can also be deleted by using the drop function:\n",
    "import pandas as pd\n",
    "df = pd.DataFrame([[1,2],[3,4]],columns = ['a','b'])\n",
    "df2= pd.DataFrame([[5,6],[7,8]],columns = ['a','b'])\n",
    "df = df.append(df2)\n",
    "print(df)\n",
    "#drop rows with label 0"
   ]
  },
  {
   "cell_type": "code",
   "execution_count": null,
   "id": "1d76b114",
   "metadata": {},
   "outputs": [],
   "source": []
  }
 ],
 "metadata": {
  "kernelspec": {
   "display_name": "Python 3",
   "language": "python",
   "name": "python3"
  },
  "language_info": {
   "codemirror_mode": {
    "name": "ipython",
    "version": 3
   },
   "file_extension": ".py",
   "mimetype": "text/x-python",
   "name": "python",
   "nbconvert_exporter": "python",
   "pygments_lexer": "ipython3",
   "version": "3.8.8"
  }
 },
 "nbformat": 4,
 "nbformat_minor": 5
}
